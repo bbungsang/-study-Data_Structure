{
 "cells": [
  {
   "cell_type": "code",
   "execution_count": 1,
   "metadata": {},
   "outputs": [],
   "source": [
    "def linear_search(arr: list, length: int, target: int):\n",
    "    i: int = 0\n",
    "    count: int = 1 # 연산횟수를 셈\n",
    "        \n",
    "    for i in range(length):\n",
    "        if target == arr[i]:\n",
    "            print(f'비교연산횟수: {count}')\n",
    "            return i\n",
    "        count += 1\n",
    "    return -1"
   ]
  },
  {
   "cell_type": "code",
   "execution_count": 2,
   "metadata": {},
   "outputs": [],
   "source": [
    "def description(idx: int):\n",
    "    if idx == -1:\n",
    "        print('탐색 실패 \\n')\n",
    "    else:\n",
    "        print(f'타겟 저장 인덱스: {idx} \\n')"
   ]
  },
  {
   "cell_type": "code",
   "execution_count": 3,
   "metadata": {},
   "outputs": [
    {
     "name": "stdout",
     "output_type": "stream",
     "text": [
      "비교연산횟수: 4\n",
      "타겟 저장 인덱스: 3 \n",
      "\n"
     ]
    }
   ],
   "source": [
    "arr: list = [3, 5, 2, 4, 9]\n",
    "idx: int = linear_search(arr, len(arr), 4)\n",
    "description(idx)"
   ]
  }
 ],
 "metadata": {
  "kernelspec": {
   "display_name": "Python 3",
   "language": "python",
   "name": "python3"
  },
  "language_info": {
   "codemirror_mode": {
    "name": "ipython",
    "version": 3
   },
   "file_extension": ".py",
   "mimetype": "text/x-python",
   "name": "python",
   "nbconvert_exporter": "python",
   "pygments_lexer": "ipython3",
   "version": "3.6.1"
  }
 },
 "nbformat": 4,
 "nbformat_minor": 2
}
