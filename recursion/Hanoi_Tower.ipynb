{
 "cells": [
  {
   "cell_type": "code",
   "execution_count": 1,
   "metadata": {},
   "outputs": [],
   "source": [
    "def hanoi_tower_move(num: int, from_: str, by_: str, to_: str):\n",
    "    if num == 1:\n",
    "        print(f'원반 1을 {from_}에서 {to_}로 이동')\n",
    "    else:\n",
    "        hanoi_tower_move(num-1, from_, to_, by_)\n",
    "        print(f'원반 {num}을(를) {from_}에서 {to_}로 이동')\n",
    "        hanoi_tower_move(num-1, by_, from_, to_)"
   ]
  },
  {
   "cell_type": "code",
   "execution_count": 2,
   "metadata": {},
   "outputs": [
    {
     "name": "stdout",
     "output_type": "stream",
     "text": [
      "원반 1을 A에서 C로 이동\n",
      "원반 2을(를) A에서 B로 이동\n",
      "원반 1을 C에서 B로 이동\n",
      "원반 3을(를) A에서 C로 이동\n",
      "원반 1을 B에서 A로 이동\n",
      "원반 2을(를) B에서 C로 이동\n",
      "원반 1을 A에서 C로 이동\n"
     ]
    }
   ],
   "source": [
    "hanoi_tower_move(3, 'A', 'B', 'C')"
   ]
  }
 ],
 "metadata": {
  "kernelspec": {
   "display_name": "Python 3",
   "language": "python",
   "name": "python3"
  },
  "language_info": {
   "codemirror_mode": {
    "name": "ipython",
    "version": 3
   },
   "file_extension": ".py",
   "mimetype": "text/x-python",
   "name": "python",
   "nbconvert_exporter": "python",
   "pygments_lexer": "ipython3",
   "version": "3.6.1"
  }
 },
 "nbformat": 4,
 "nbformat_minor": 2
}
